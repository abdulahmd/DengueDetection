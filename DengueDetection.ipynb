{
 "cells": [
  {
   "cell_type": "markdown",
   "metadata": {},
   "source": [
    "# Detecting Dengue in subjects | ISEF 2024\n",
    "## Our Research -"
   ]
  },
  {
   "cell_type": "code",
   "execution_count": 39,
   "metadata": {},
   "outputs": [],
   "source": [
    "# Here, we initialize the dataset, and produces are respective training and testing sets\n",
    "import torch\n",
    "import pandas as pd\n",
    "import numpy as np\n",
    "from sklearn.model_selection import train_test_split\n",
    "\n",
    "data = pd.read_csv('dengue.csv')\n",
    "\n",
    "X = data.drop(['Name', 'Dengue'], axis=1).values\n",
    "y = data['Dengue'].values\n",
    "\n",
    "X = torch.tensor(X, dtype=torch.float32)\n",
    "y = torch.tensor(y, dtype=torch.float32).view(-1, 1) \n",
    "\n",
    "X_train, X_test, y_train, y_test = train_test_split(X, y, test_size=0.2, random_state=42)\n"
   ]
  },
  {
   "cell_type": "code",
   "execution_count": 40,
   "metadata": {},
   "outputs": [],
   "source": [
    "import torch.nn as nn;\n",
    "\n",
    "class DengueClassifier(nn.Module):\n",
    "    def __init__(self):\n",
    "        super(DengueClassifier, self).__init__()\n",
    "        self.fc1 = nn.Linear(4, 8)\n",
    "        self.fc2 = nn.Linear(8, 8) \n",
    "        self.fc3 = nn.Linear(8, 1)\n",
    "\n",
    "    def forward(self, x):\n",
    "        x = torch.relu(self.fc1(x))\n",
    "        x = torch.relu(self.fc2(x))\n",
    "        x = torch.sigmoid(self.fc3(x))\n",
    "        return x\n",
    "\n",
    "model = DengueClassifier()\n"
   ]
  },
  {
   "cell_type": "code",
   "execution_count": 41,
   "metadata": {},
   "outputs": [
    {
     "name": "stdout",
     "output_type": "stream",
     "text": [
      "Epoch [100/2000], Loss: 0.6942\n",
      "Epoch [200/2000], Loss: 0.6938\n",
      "Epoch [300/2000], Loss: 0.6935\n",
      "Epoch [400/2000], Loss: 0.6934\n",
      "Epoch [500/2000], Loss: 0.6933\n",
      "Epoch [600/2000], Loss: 0.6933\n",
      "Epoch [700/2000], Loss: 0.6932\n",
      "Epoch [800/2000], Loss: 0.6932\n",
      "Epoch [900/2000], Loss: 0.6932\n",
      "Epoch [1000/2000], Loss: 0.6932\n",
      "Epoch [1100/2000], Loss: 0.6932\n",
      "Epoch [1200/2000], Loss: 0.6932\n",
      "Epoch [1300/2000], Loss: 0.6932\n",
      "Epoch [1400/2000], Loss: 0.6932\n",
      "Epoch [1500/2000], Loss: 0.6932\n",
      "Epoch [1600/2000], Loss: 0.6932\n",
      "Epoch [1700/2000], Loss: 0.6932\n",
      "Epoch [1800/2000], Loss: 0.6932\n",
      "Epoch [1900/2000], Loss: 0.6932\n",
      "Epoch [2000/2000], Loss: 0.6932\n"
     ]
    }
   ],
   "source": [
    "# Training using BCELoss and Adam Optimizer to update model\n",
    "import torch.optim as optim\n",
    "\n",
    "optimizer = optim.SGD(model.parameters(), lr=0.001, momentum=0.9)  # SGD optimizer with momentum\n",
    "criterion = nn.BCELoss()\n",
    "epochs = 2000\n",
    "\n",
    "for epoch in range(epochs):\n",
    "    model.train()\n",
    "    optimizer.zero_grad()\n",
    "\n",
    "    outputs = model(X_train)\n",
    "    loss = criterion(outputs, y_train)\n",
    "\n",
    "    loss.backward()\n",
    "    optimizer.step()\n",
    "\n",
    "    if (epoch + 1) % 100 == 0:\n",
    "        print(f'Epoch [{epoch+1}/{epochs}], Loss: {loss.item():.4f}')\n"
   ]
  },
  {
   "cell_type": "code",
   "execution_count": 44,
   "metadata": {},
   "outputs": [
    {
     "name": "stdout",
     "output_type": "stream",
     "text": [
      "Accuracy on test set: 0.50\n"
     ]
    }
   ],
   "source": [
    "model.eval()\n",
    "with torch.no_grad():\n",
    "    predicted = model(X_test)\n",
    "    predicted = torch.round(predicted)\n",
    "    accuracy = (predicted == y_test).sum().item() / len(y_test)\n",
    "    print(f'Accuracy on test set: {accuracy:.2f}')\n"
   ]
  }
 ],
 "metadata": {
  "kernelspec": {
   "display_name": "Python 3",
   "language": "python",
   "name": "python3"
  },
  "language_info": {
   "codemirror_mode": {
    "name": "ipython",
    "version": 3
   },
   "file_extension": ".py",
   "mimetype": "text/x-python",
   "name": "python",
   "nbconvert_exporter": "python",
   "pygments_lexer": "ipython3",
   "version": "3.11.5"
  }
 },
 "nbformat": 4,
 "nbformat_minor": 2
}
